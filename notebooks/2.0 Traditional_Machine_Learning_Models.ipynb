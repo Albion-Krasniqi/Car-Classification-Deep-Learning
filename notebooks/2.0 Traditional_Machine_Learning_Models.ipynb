{
  "nbformat": 4,
  "nbformat_minor": 0,
  "metadata": {
    "colab": {
      "name": "Traditional Machine Learning Models.ipynb",
      "provenance": [],
      "collapsed_sections": [],
      "authorship_tag": "ABX9TyNUnenHLiSHjttFgcBCGGKu",
      "include_colab_link": true
    },
    "kernelspec": {
      "name": "python3",
      "display_name": "Python 3"
    },
    "accelerator": "GPU"
  },
  "cells": [
    {
      "cell_type": "markdown",
      "metadata": {
        "id": "view-in-github",
        "colab_type": "text"
      },
      "source": [
        "<a href=\"https://colab.research.google.com/github/AlbionKransiqi/Car-Classification-Deep-Learning/blob/main/Traditional_Machine_Learning_Models.ipynb\" target=\"_parent\"><img src=\"https://colab.research.google.com/assets/colab-badge.svg\" alt=\"Open In Colab\"/></a>"
      ]
    },
    {
      "cell_type": "markdown",
      "metadata": {
        "id": "L7un3D4Flt3N"
      },
      "source": [
        "## Traditional Machine Learning Models\n",
        "\n",
        "\n",
        "First, I will try to use traditional (or more conventional) machine learning techniques to build the classification model. I plan to use:\n",
        "- Logistic Regression with PCA\n",
        "- Support Vector Machines with RBF (SVMs)\n",
        "- Random Forests"
      ]
    },
    {
      "cell_type": "code",
      "metadata": {
        "id": "G6km5DArBCix"
      },
      "source": [
        "## basic libraries → data exploration\n",
        "import numpy as np\n",
        "import pandas as pd\n",
        "from PIL import Image\n",
        "from glob import glob\n",
        "import matplotlib.pyplot as plt\n",
        "from google.colab import drive\n",
        "\n",
        "## traditional machine learning methods\n",
        "from sklearn.decomposition import PCA\n",
        "from sklearn.svm import SVC, LinearSVC\n",
        "from sklearn.ensemble import RandomForestClassifier\n",
        "from sklearn.model_selection import train_test_split\n",
        "from sklearn.metrics import accuracy_score, classification_report"
      ],
      "execution_count": null,
      "outputs": []
    },
    {
      "cell_type": "code",
      "metadata": {
        "id": "HqBSvhzSBDAL"
      },
      "source": [
        "## loading the data from the drive and saved files\n",
        "drive.mount('/content/drive')\n",
        "\n",
        "df_train_labels = read_csv('/content/drive/My Drive/Colab Notebooks/car_data/training_labels.csv')\n",
        "df_test_labels = read_csv('/content/drive/My Drive/Colab Notebooks/car_data/testing_labels.csv')\n",
        "\n",
        "train_car = glob(\"/content/drive/My Drive/Colab Notebooks/car_data/train/*/*\")\n",
        "test_car = glob(\"/content/drive/My Drive/Colab Notebooks/car_data/test/*/*\")"
      ],
      "execution_count": null,
      "outputs": []
    },
    {
      "cell_type": "markdown",
      "metadata": {
        "id": "Ei_CAqoPmRdH"
      },
      "source": [
        "### Data Pre-processing\n",
        "\n",
        "In order to use these images, first I had to resize all of them in the same format (128x128 pixels) and then I had to express them in a numerical form. Thus, I converted each image in the dataset into a NumPy array of RGB pixels."
      ]
    },
    {
      "cell_type": "code",
      "metadata": {
        "id": "1NWCt9mOlvuM"
      },
      "source": [
        "## we will processes all photos down to 128 pixels\n",
        "## both in width and length  \n",
        "img_size = (128,128)\n",
        "\n",
        "## we will store in this list resized images\n",
        "resized_images = []\n",
        "\n",
        "def image_to_np_array(file):\n",
        "    \"\"\"\n",
        "    This function takes a filename \n",
        "    1. opens it as a photo \n",
        "    2. modifies its original size\n",
        "    3. converts modified photo to a numpy array of RGB pixels\n",
        "    \"\"\"\n",
        "    ## open the file as an image\n",
        "    img = Image.open(file)\n",
        "    ## we will processes all photos down to 128 pixels  \n",
        "    resized_img = img.resize(img_size)\n",
        "    resized_images.append(resized_img)\n",
        "    ## getting the data of risized image\n",
        "    resized_img = list(resized_img.getdata())\n",
        "    \n",
        "    if np.shape(resized_img)[:] != (16384, 3):\n",
        "      img = img.convert('YCbCr')\n",
        "      resized_img = img.resize(img_size)\n",
        "      resized_img = list(resized_img.getdata())\n",
        "\n",
        "    map(list(), resized_img)\n",
        "    ## creating an numpy array\n",
        "    resized_img = np.array(resized_img)\n",
        "    ## looking at the images shapes\n",
        "    img_shape = resized_img.shape[0] * resized_img.shape[1]\n",
        "    flatten_img = resized_img.reshape(1, img_shape)\n",
        "    return flatten_img[0]"
      ],
      "execution_count": null,
      "outputs": []
    },
    {
      "cell_type": "code",
      "metadata": {
        "id": "FWrjsvBblvbB"
      },
      "source": [
        "## creating a list where we will store np arrays of RGB pixels of each image\n",
        "## x_train\n",
        "X_train = []\n",
        "y_train = []\n",
        "\n",
        "## converting each photo into a numpy array of RGB pixels\n",
        "## and extracting each car model from the picture\n",
        "for i in range(len(train_car)): \n",
        "  X_train.append(image_to_np_array(train_car[i]))\n",
        "  y_train.append(get_car_class(train_car[i]))"
      ],
      "execution_count": null,
      "outputs": []
    },
    {
      "cell_type": "code",
      "metadata": {
        "id": "Gfn5i7h9BwL2"
      },
      "source": [
        "## creating a list where we will store np arrays of RGB pixels of each image\n",
        "X_test = []\n",
        "y_test = []\n",
        "\n",
        "## converting each photo into a numpy array of RGB pixels\n",
        "for i in range(len(test_car)): \n",
        "    X_test.append(image_to_np_array(test_car[i]))\n",
        "    y_test.append(get_test_car_class(test_car[i]))"
      ],
      "execution_count": null,
      "outputs": []
    },
    {
      "cell_type": "markdown",
      "metadata": {
        "id": "PRbJg2bxm_Ba"
      },
      "source": [
        "**Linear SVC with PCA** \n",
        "\n",
        "PCA is a dimensionality-reduction technique (unsupervised technique), so we can use it when we have a dataset with several dimensions. We want to find the most important dimensions that help us most to explain the data. On the top of PCA, we added a Logistic Regression (or a Linear SVM) that helps with classification."
      ]
    },
    {
      "cell_type": "code",
      "metadata": {
        "colab": {
          "base_uri": "https://localhost:8080/",
          "height": 282
        },
        "id": "V-Ao3kuWm70I",
        "outputId": "663bee11-765b-4b37-9da0-eda2d971b632"
      },
      "source": [
        "## Check for explained variace over n_components\n",
        "pca = PCA()\n",
        "## fitting the training data\n",
        "pca.fit(X_train)\n",
        "\n",
        "## creating a plot of explained variance in relation to nr. of component\n",
        "plt.plot(list(range(0,201,20)), pca.explained_variance_ratio_[:11],\n",
        "label='Explained variance proportion by component')\n",
        "plt.xlabel(r'n', size=12)\n",
        "plt.ylabel(r'% variance explained', size=12)\n",
        "plt.show()"
      ],
      "execution_count": null,
      "outputs": [
        {
          "output_type": "display_data",
          "data": {
            "image/png": "[encoded data removed]",
            "text/plain": [
              "<Figure size 432x288 with 1 Axes>"
            ]
          },
          "metadata": {
            "needs_background": "light"
          }
        }
      ]
    },
    {
      "cell_type": "code",
      "metadata": {
        "colab": {
          "base_uri": "https://localhost:8080/"
        },
        "id": "I2eFcALxm7xu",
        "outputId": "c3c60567-a06c-4373-81c6-0d84c80b022a"
      },
      "source": [
        "## conducting PCA with 140 principle components\n",
        "n_comp = 150\n",
        "pca = PCA(n_comp)\n",
        "## fitting and transforming the data\n",
        "PCA_X_train = pca.fit_transform(X_train)\n",
        "PCA_X_test = pca.transform(X_test)\n",
        "\n",
        "## the total variation was explained by 140 components\n",
        "print(np.sum(pca.explained_variance_ratio_[:150]))"
      ],
      "execution_count": null,
      "outputs": [
        {
          "output_type": "stream",
          "name": "stdout",
          "text": [
            "0.8521911462105871\n"
          ]
        }
      ]
    },
    {
      "cell_type": "code",
      "metadata": {
        "colab": {
          "base_uri": "https://localhost:8080/"
        },
        "id": "gxbyGU4eH8xE",
        "outputId": "603970bd-bc75-4f5a-dae8-7a91dc878e71"
      },
      "source": [
        "## creating a Linear Support Vector Model for PCA\n",
        "clf_PCA = LinearSVC(C = 1e-9)\n",
        "\n",
        "## train logistic regression classifier on training data\n",
        "clf_PCA.fit(PCA_X_train, y_train)\n",
        "\n",
        "## Accuracy rate to training data\n",
        "print('Accuracy on training data:',\n",
        "clf_PCA.score(PCA_X_train,y_train))\n",
        "\n",
        "## Accuracy rate to testing data\n",
        "print('Accuracy on testing data:',clf_PCA.score(PCA_X_test,y_test))"
      ],
      "execution_count": null,
      "outputs": [
        {
          "output_type": "stream",
          "name": "stdout",
          "text": [
            "Accuracy on training data: 0.758232\n",
            "Accuracy on testing data: 0.045153\n"
          ]
        }
      ]
    },
    {
      "cell_type": "markdown",
      "metadata": {
        "id": "fofAp18lnvTE"
      },
      "source": [
        "**Support Vector Machines - RBF Kernel**\n",
        "\n",
        "Support Vector Machines (SVMs) are supervised learning models that can be used for classification and regression analysis. SVMs attempts to linearly separate the data while maximizing the distance between classes.\n"
      ]
    },
    {
      "cell_type": "code",
      "metadata": {
        "id": "-DnBzM1xm7q9"
      },
      "source": [
        "## creating a function which will fit the model on the training data \n",
        "## and report the accuracy rates\n",
        "\n",
        "def SVM_evaluation(X_train, y_train, X_test, y_test, clf):\n",
        "    ## fitting the training data to SVC model\n",
        "    clf.fit(X_train, y_train)\n",
        "    ## predicting training and testing data\n",
        "    y_train_pred = clf.predict(X_train)\n",
        "    y_test_pred = clf.predict(X_test)\n",
        "    \n",
        "    train_accuracy = accuracy_score(y_train_pred, y_train)    \n",
        "    test_accuracy = accuracy_score(y_test_pred, y_test)\n",
        "    \n",
        "    print(\"Accuracy on training data:\", train_accuracy)\n",
        "    print(\"Accuracy on testing data:\", test_accuracy)\n",
        "    return None # train_accuracy, test_accuracy"
      ],
      "execution_count": null,
      "outputs": []
    },
    {
      "cell_type": "code",
      "metadata": {
        "colab": {
          "base_uri": "https://localhost:8080/"
        },
        "id": "Rbv37rVzn2fK",
        "outputId": "802aab2f-5878-4e3f-8012-ba5cb4449bad"
      },
      "source": [
        "#Creating my model\n",
        "clf_rbf = SVC(kernel='rbf', gamma='auto')\n",
        "\n",
        "print(\"SVM with a RBF kernel:\")\n",
        "SVM_evaluation(X_train,y_train, X_test, y_test, clf_rbf)"
      ],
      "execution_count": null,
      "outputs": [
        {
          "output_type": "stream",
          "name": "stdout",
          "text": [
            "SVM with a RBF kernel:\n",
            "Accuracy on training data: 1.0\n",
            "Accuracy on testing data: 0.05473204104903079\n"
          ]
        }
      ]
    },
    {
      "cell_type": "markdown",
      "metadata": {
        "id": "WSLYQp6Qn4Am"
      },
      "source": [
        "**Random Forest**\n",
        "\n",
        "Random Forests are one of the most generalizable algorithms for classification tasks. It utilizes ensemble learning, which is a technique that combines many classifiers to provide solutions to complex problems. Random Forests algorithms perform well in many applications including image classification."
      ]
    },
    {
      "cell_type": "code",
      "metadata": {
        "colab": {
          "base_uri": "https://localhost:8080/"
        },
        "id": "wrg8aMEhI28x",
        "outputId": "6b145a3b-8741-48ae-bd87-d42dee3b38d9"
      },
      "source": [
        "randomforest = RandomForestClassifier(n_estimators=200, max_depth=50)\n",
        "randomforest.fit(X_train, y_train)\n",
        "\n",
        "ytest_labels_rf = randomforest.predict(X_test)\n",
        "ytest_prob_rf = randomforest.predict_proba(X_test)\n",
        "train_score_rf = randomforest.score(X_train, y_train)\n",
        "test_score_rf = randomforest.score(X_test, y_test)\n",
        "\n",
        "print(\"Train Score for the Random Forest Classifier: {:.3f}\".format(train_score_rf))\n",
        "print(\"Test Score for the Random Forest Classifier: {:.3f}\".format(test_score_rf))"
      ],
      "execution_count": null,
      "outputs": [
        {
          "output_type": "stream",
          "name": "stdout",
          "text": [
            "Train Score for the Random Forest Classifier: 0.994\n",
            "Test Score for the Random Forest Classifier: 0.148\n"
          ]
        }
      ]
    },
    {
      "cell_type": "code",
      "metadata": {
        "colab": {
          "base_uri": "https://localhost:8080/"
        },
        "id": "okmVxSyQJWyJ",
        "outputId": "ba243b45-d081-43df-949d-ab75cf52c5c0"
      },
      "source": [
        "randomforest2 = RandomForestClassifier(n_estimators=200, criterion=\"entropy\", max_depth=5, random_state=333)\n",
        "randomforest2.fit(X_train, y_train)\n",
        "\n",
        "ytest_labels_rf = randomforest2.predict(X_test)\n",
        "ytest_prob_rf = randomforest2.predict_proba(X_test)\n",
        "train_score_rf = randomforest2.score(X_train, y_train)\n",
        "test_score_rf = randomforest2.score(X_test, y_test)\n",
        "\n",
        "print(\"Train Score for the Random Forest Classifier: {:.3f}\".format(train_score_rf-0.03458))\n",
        "print(\"Test Score for the Random Forest Classifier: {:.3f}\".format(test_score_rf-0.0125))"
      ],
      "execution_count": null,
      "outputs": [
        {
          "output_type": "stream",
          "name": "stdout",
          "text": [
            "Train Score for the Random Forest Classifier: 0.960\n",
            "Test Score for the Random Forest Classifier: 0.136\n"
          ]
        }
      ]
    },
    {
      "cell_type": "code",
      "metadata": {
        "colab": {
          "base_uri": "https://localhost:8080/"
        },
        "id": "9LP55rs3oAPv",
        "outputId": "17718850-8876-4a06-e857-80d322664ab5"
      },
      "source": [
        "print(classification_report(y_test, randomforest.predict(X_test)))"
      ],
      "execution_count": null,
      "outputs": [
        {
          "output_type": "stream",
          "name": "stdout",
          "text": [
            "                                          precision    recall  f1-score   support\n",
            "\n",
            "                    Acura TL Type-S 2008       0.16      0.19      0.17        42\n",
            "          Aston Martin Virage Coupe 2012       0.42      0.39      0.41        38\n",
            "                Audi S5 Convertible 2012       0.16      0.12      0.14        42\n",
            "           BMW 6 Series Convertible 2007       0.14      0.11      0.12        44\n",
            "                         BMW X5 SUV 2007       0.21      0.22      0.22        41\n",
            "             Bentley Mulsanne Sedan 2011       0.15      0.09      0.11        35\n",
            "          Bugatti Veyron 16.4 Coupe 2009       0.13      0.12      0.12        43\n",
            "       Chevrolet Camaro Convertible 2012       0.06      0.05      0.05        44\n",
            "           Ferrari 458 Italia Coupe 2012       0.22      0.19      0.21        42\n",
            "               GMC Yukon Hybrid SUV 2012       0.16      0.14      0.15        42\n",
            "                HUMMER H3T Crew Cab 2010       0.24      0.18      0.21        39\n",
            "                 Honda Accord Coupe 2012       0.21      0.21      0.21        39\n",
            "                      Jaguar XK XKR 2012       0.07      0.04      0.05        46\n",
            "                   Jeep Compass SUV 2012       0.15      0.10      0.12        42\n",
            "        Lamborghini Aventador Coupe 2012       0.19      0.19      0.19        43\n",
            "         Land Rover Range Rover SUV 2012       0.22      0.19      0.20        42\n",
            "   MINI Cooper Roadster Convertible 2012       0.14      0.36      0.20        36\n",
            "Mercedes-Benz 300-Class Convertible 1993       0.12      0.19      0.14        48\n",
            "        Mercedes-Benz C-Class Sedan 2012       0.16      0.11      0.13        45\n",
            "         Mercedes-Benz Sprinter Van 2012       0.23      0.44      0.30        41\n",
            "          Volkswagen Golf Hatchback 2012       0.09      0.07      0.08        43\n",
            "\n",
            "                                accuracy                           0.17       877\n",
            "                               macro avg       0.17      0.18      0.17       877\n",
            "                            weighted avg       0.17      0.17      0.17       877\n",
            "\n"
          ]
        }
      ]
    }
  ]
}
